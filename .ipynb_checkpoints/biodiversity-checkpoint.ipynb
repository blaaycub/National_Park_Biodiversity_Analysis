{
 "cells": [
  {
   "cell_type": "markdown",
   "metadata": {},
   "source": [
    "# Biodiversity in National Parks"
   ]
  },
  {
   "cell_type": "markdown",
   "metadata": {},
   "source": [
    "## Project Overview"
   ]
  },
  {
   "cell_type": "markdown",
   "metadata": {},
   "source": [
    "A data analysis on the conservation of endangered National Park species to try to identify patterns or themes in how these species become endangered."
   ]
  },
  {
   "cell_type": "markdown",
   "metadata": {},
   "source": [
    "#### **Project Goals:**\n",
    "\n",
    "* **Conduct an exploratory data analysis:**\n",
    "    * Establish the question we are trying to solve\n",
    "    * What kind of data do we have? What types of visualizations suit our types?\n",
    "    * What's missing from the data? (if anything)\n",
    "    * Where are the outliers?\n",
    "    * How can we add, change or remove features to get more out of the data?\n",
    "\n",
    "\n",
    "* **Questions to gain insight**\n",
    "    * What is the distribution of conservation_status for animals?\n",
    "    * Are certain types of species more likely to be endangered?\n",
    "    * Are the differences between species and their conservation status significant?\n",
    "    * Which species were spotted the most at each park?"
   ]
  },
  {
   "cell_type": "code",
   "execution_count": 1,
   "metadata": {},
   "outputs": [],
   "source": [
    "# import packages\n",
    "\n",
    "# Manipulation\n",
    "import numpy as np\n",
    "import pandas as pd\n",
    "\n",
    "# Visualization\n",
    "from matplotlib import pyplot as plt\n",
    "import seaborn as sns\n",
    "import missingno\n",
    "sns.set_theme(style=\"white\")\n"
   ]
  },
  {
   "cell_type": "markdown",
   "metadata": {},
   "source": [
    "### Exploratory Data Analysis"
   ]
  },
  {
   "cell_type": "markdown",
   "metadata": {},
   "source": [
    "Steps:\n",
    "   1. Import the Data\n",
    "   2. Get a feel for the data, use info(), head(), and tail() functions\n",
    "   3. Take a deeper look into the data by querying/indexing the data\n",
    "   4. Identify features of interest\n",
    "   5. Recognize the challeges posed by the data such as missing values or outliers\n",
    "   6. Discover patterns in the data (through visualization)"
   ]
  },
  {
   "cell_type": "code",
   "execution_count": 2,
   "metadata": {},
   "outputs": [],
   "source": [
    "# 1 Import the data\n",
    "\n",
    "species_info = pd.read_csv('species_info.csv')\n",
    "# species_info contains data about different species and their conservation status\n",
    "\n",
    "observations = pd.read_csv('observations.csv')\n",
    "# observations holds recorded sightings of different species at several national parks for the past 7 days."
   ]
  },
  {
   "cell_type": "code",
   "execution_count": 3,
   "metadata": {},
   "outputs": [
    {
     "data": {
      "text/html": [
       "<div>\n",
       "<style scoped>\n",
       "    .dataframe tbody tr th:only-of-type {\n",
       "        vertical-align: middle;\n",
       "    }\n",
       "\n",
       "    .dataframe tbody tr th {\n",
       "        vertical-align: top;\n",
       "    }\n",
       "\n",
       "    .dataframe thead th {\n",
       "        text-align: right;\n",
       "    }\n",
       "</style>\n",
       "<table border=\"1\" class=\"dataframe\">\n",
       "  <thead>\n",
       "    <tr style=\"text-align: right;\">\n",
       "      <th></th>\n",
       "      <th>category</th>\n",
       "      <th>scientific_name</th>\n",
       "      <th>common_names</th>\n",
       "      <th>conservation_status</th>\n",
       "    </tr>\n",
       "  </thead>\n",
       "  <tbody>\n",
       "    <tr>\n",
       "      <th>0</th>\n",
       "      <td>Mammal</td>\n",
       "      <td>Clethrionomys gapperi gapperi</td>\n",
       "      <td>Gapper's Red-Backed Vole</td>\n",
       "      <td>NaN</td>\n",
       "    </tr>\n",
       "    <tr>\n",
       "      <th>1</th>\n",
       "      <td>Mammal</td>\n",
       "      <td>Bos bison</td>\n",
       "      <td>American Bison, Bison</td>\n",
       "      <td>NaN</td>\n",
       "    </tr>\n",
       "    <tr>\n",
       "      <th>2</th>\n",
       "      <td>Mammal</td>\n",
       "      <td>Bos taurus</td>\n",
       "      <td>Aurochs, Aurochs, Domestic Cattle (Feral), Dom...</td>\n",
       "      <td>NaN</td>\n",
       "    </tr>\n",
       "    <tr>\n",
       "      <th>3</th>\n",
       "      <td>Mammal</td>\n",
       "      <td>Ovis aries</td>\n",
       "      <td>Domestic Sheep, Mouflon, Red Sheep, Sheep (Feral)</td>\n",
       "      <td>NaN</td>\n",
       "    </tr>\n",
       "    <tr>\n",
       "      <th>4</th>\n",
       "      <td>Mammal</td>\n",
       "      <td>Cervus elaphus</td>\n",
       "      <td>Wapiti Or Elk</td>\n",
       "      <td>NaN</td>\n",
       "    </tr>\n",
       "  </tbody>\n",
       "</table>\n",
       "</div>"
      ],
      "text/plain": [
       "  category                scientific_name  \\\n",
       "0   Mammal  Clethrionomys gapperi gapperi   \n",
       "1   Mammal                      Bos bison   \n",
       "2   Mammal                     Bos taurus   \n",
       "3   Mammal                     Ovis aries   \n",
       "4   Mammal                 Cervus elaphus   \n",
       "\n",
       "                                        common_names conservation_status  \n",
       "0                           Gapper's Red-Backed Vole                 NaN  \n",
       "1                              American Bison, Bison                 NaN  \n",
       "2  Aurochs, Aurochs, Domestic Cattle (Feral), Dom...                 NaN  \n",
       "3  Domestic Sheep, Mouflon, Red Sheep, Sheep (Feral)                 NaN  \n",
       "4                                      Wapiti Or Elk                 NaN  "
      ]
     },
     "execution_count": 3,
     "metadata": {},
     "output_type": "execute_result"
    }
   ],
   "source": [
    "# 2 Get a feel for the data, describe the data, look at the first/last rows, shape: species_info data set\n",
    "species_info.head()"
   ]
  },
  {
   "cell_type": "code",
   "execution_count": 4,
   "metadata": {},
   "outputs": [
    {
     "data": {
      "text/html": [
       "<div>\n",
       "<style scoped>\n",
       "    .dataframe tbody tr th:only-of-type {\n",
       "        vertical-align: middle;\n",
       "    }\n",
       "\n",
       "    .dataframe tbody tr th {\n",
       "        vertical-align: top;\n",
       "    }\n",
       "\n",
       "    .dataframe thead th {\n",
       "        text-align: right;\n",
       "    }\n",
       "</style>\n",
       "<table border=\"1\" class=\"dataframe\">\n",
       "  <thead>\n",
       "    <tr style=\"text-align: right;\">\n",
       "      <th></th>\n",
       "      <th>category</th>\n",
       "      <th>scientific_name</th>\n",
       "      <th>common_names</th>\n",
       "      <th>conservation_status</th>\n",
       "    </tr>\n",
       "  </thead>\n",
       "  <tbody>\n",
       "    <tr>\n",
       "      <th>count</th>\n",
       "      <td>5824</td>\n",
       "      <td>5824</td>\n",
       "      <td>5824</td>\n",
       "      <td>191</td>\n",
       "    </tr>\n",
       "    <tr>\n",
       "      <th>unique</th>\n",
       "      <td>7</td>\n",
       "      <td>5541</td>\n",
       "      <td>5504</td>\n",
       "      <td>4</td>\n",
       "    </tr>\n",
       "    <tr>\n",
       "      <th>top</th>\n",
       "      <td>Vascular Plant</td>\n",
       "      <td>Columba livia</td>\n",
       "      <td>Dicranum Moss</td>\n",
       "      <td>Species of Concern</td>\n",
       "    </tr>\n",
       "    <tr>\n",
       "      <th>freq</th>\n",
       "      <td>4470</td>\n",
       "      <td>3</td>\n",
       "      <td>7</td>\n",
       "      <td>161</td>\n",
       "    </tr>\n",
       "  </tbody>\n",
       "</table>\n",
       "</div>"
      ],
      "text/plain": [
       "              category scientific_name   common_names conservation_status\n",
       "count             5824            5824           5824                 191\n",
       "unique               7            5541           5504                   4\n",
       "top     Vascular Plant   Columba livia  Dicranum Moss  Species of Concern\n",
       "freq              4470               3              7                 161"
      ]
     },
     "execution_count": 4,
     "metadata": {},
     "output_type": "execute_result"
    }
   ],
   "source": [
    "species_info.describe()"
   ]
  },
  {
   "cell_type": "code",
   "execution_count": 5,
   "metadata": {},
   "outputs": [
    {
     "data": {
      "text/plain": [
       "<AxesSubplot:>"
      ]
     },
     "execution_count": 5,
     "metadata": {},
     "output_type": "execute_result"
    },
    {
     "data": {
      "image/png": "[encoded data removed]",
      "text/plain": [
       "<Figure size 2160x720 with 2 Axes>"
      ]
     },
     "metadata": {},
     "output_type": "display_data"
    }
   ],
   "source": [
    "missingno.matrix(species_info, figsize = (30,10))"
   ]
  },
  {
   "cell_type": "code",
   "execution_count": 6,
   "metadata": {},
   "outputs": [
    {
     "name": "stdout",
     "output_type": "stream",
     "text": [
      "<class 'pandas.core.frame.DataFrame'>\n",
      "RangeIndex: 5824 entries, 0 to 5823\n",
      "Data columns (total 4 columns):\n",
      " #   Column               Non-Null Count  Dtype \n",
      "---  ------               --------------  ----- \n",
      " 0   category             5824 non-null   object\n",
      " 1   scientific_name      5824 non-null   object\n",
      " 2   common_names         5824 non-null   object\n",
      " 3   conservation_status  191 non-null    object\n",
      "dtypes: object(4)\n",
      "memory usage: 182.1+ KB\n"
     ]
    }
   ],
   "source": [
    "species_info.info()"
   ]
  },
  {
   "cell_type": "code",
   "execution_count": 7,
   "metadata": {},
   "outputs": [
    {
     "data": {
      "text/html": [
       "<div>\n",
       "<style scoped>\n",
       "    .dataframe tbody tr th:only-of-type {\n",
       "        vertical-align: middle;\n",
       "    }\n",
       "\n",
       "    .dataframe tbody tr th {\n",
       "        vertical-align: top;\n",
       "    }\n",
       "\n",
       "    .dataframe thead th {\n",
       "        text-align: right;\n",
       "    }\n",
       "</style>\n",
       "<table border=\"1\" class=\"dataframe\">\n",
       "  <thead>\n",
       "    <tr style=\"text-align: right;\">\n",
       "      <th></th>\n",
       "      <th>index</th>\n",
       "      <th>category</th>\n",
       "    </tr>\n",
       "  </thead>\n",
       "  <tbody>\n",
       "    <tr>\n",
       "      <th>0</th>\n",
       "      <td>Vascular Plant</td>\n",
       "      <td>4470</td>\n",
       "    </tr>\n",
       "    <tr>\n",
       "      <th>1</th>\n",
       "      <td>Bird</td>\n",
       "      <td>521</td>\n",
       "    </tr>\n",
       "    <tr>\n",
       "      <th>2</th>\n",
       "      <td>Nonvascular Plant</td>\n",
       "      <td>333</td>\n",
       "    </tr>\n",
       "    <tr>\n",
       "      <th>3</th>\n",
       "      <td>Mammal</td>\n",
       "      <td>214</td>\n",
       "    </tr>\n",
       "    <tr>\n",
       "      <th>4</th>\n",
       "      <td>Fish</td>\n",
       "      <td>127</td>\n",
       "    </tr>\n",
       "    <tr>\n",
       "      <th>5</th>\n",
       "      <td>Amphibian</td>\n",
       "      <td>80</td>\n",
       "    </tr>\n",
       "    <tr>\n",
       "      <th>6</th>\n",
       "      <td>Reptile</td>\n",
       "      <td>79</td>\n",
       "    </tr>\n",
       "  </tbody>\n",
       "</table>\n",
       "</div>"
      ],
      "text/plain": [
       "               index  category\n",
       "0     Vascular Plant      4470\n",
       "1               Bird       521\n",
       "2  Nonvascular Plant       333\n",
       "3             Mammal       214\n",
       "4               Fish       127\n",
       "5          Amphibian        80\n",
       "6            Reptile        79"
      ]
     },
     "execution_count": 7,
     "metadata": {},
     "output_type": "execute_result"
    }
   ],
   "source": [
    "# using value counts to see how many unique values we have of each observation in the category variable\n",
    "species_info.category.value_counts().reset_index()"
   ]
  },
  {
   "cell_type": "code",
   "execution_count": 8,
   "metadata": {},
   "outputs": [
    {
     "data": {
      "text/html": [
       "<div>\n",
       "<style scoped>\n",
       "    .dataframe tbody tr th:only-of-type {\n",
       "        vertical-align: middle;\n",
       "    }\n",
       "\n",
       "    .dataframe tbody tr th {\n",
       "        vertical-align: top;\n",
       "    }\n",
       "\n",
       "    .dataframe thead th {\n",
       "        text-align: right;\n",
       "    }\n",
       "</style>\n",
       "<table border=\"1\" class=\"dataframe\">\n",
       "  <thead>\n",
       "    <tr style=\"text-align: right;\">\n",
       "      <th></th>\n",
       "      <th>index</th>\n",
       "      <th>conservation_status</th>\n",
       "    </tr>\n",
       "  </thead>\n",
       "  <tbody>\n",
       "    <tr>\n",
       "      <th>0</th>\n",
       "      <td>Species of Concern</td>\n",
       "      <td>161</td>\n",
       "    </tr>\n",
       "    <tr>\n",
       "      <th>1</th>\n",
       "      <td>Endangered</td>\n",
       "      <td>16</td>\n",
       "    </tr>\n",
       "    <tr>\n",
       "      <th>2</th>\n",
       "      <td>Threatened</td>\n",
       "      <td>10</td>\n",
       "    </tr>\n",
       "    <tr>\n",
       "      <th>3</th>\n",
       "      <td>In Recovery</td>\n",
       "      <td>4</td>\n",
       "    </tr>\n",
       "  </tbody>\n",
       "</table>\n",
       "</div>"
      ],
      "text/plain": [
       "                index  conservation_status\n",
       "0  Species of Concern                  161\n",
       "1          Endangered                   16\n",
       "2          Threatened                   10\n",
       "3         In Recovery                    4"
      ]
     },
     "execution_count": 8,
     "metadata": {},
     "output_type": "execute_result"
    }
   ],
   "source": [
    "# using value counts to see how many unique values we have of each observation in the conservation status variable column\n",
    "species_info.conservation_status.value_counts().reset_index()"
   ]
  },
  {
   "cell_type": "markdown",
   "metadata": {},
   "source": [
    "**Data types:**\n",
    "\n",
    "The info and value_counts functions allowed us to determine the following:\n",
    "   * The category, scientific_names, common_names, and conservation_status are nominal categorical variables\n",
    "   * The are 4 different conservation statues\n",
    "   * There are 7 different categories of species\n",
    "   * There are no null values"
   ]
  },
  {
   "cell_type": "code",
   "execution_count": 9,
   "metadata": {},
   "outputs": [
    {
     "data": {
      "text/html": [
       "<div>\n",
       "<style scoped>\n",
       "    .dataframe tbody tr th:only-of-type {\n",
       "        vertical-align: middle;\n",
       "    }\n",
       "\n",
       "    .dataframe tbody tr th {\n",
       "        vertical-align: top;\n",
       "    }\n",
       "\n",
       "    .dataframe thead th {\n",
       "        text-align: right;\n",
       "    }\n",
       "</style>\n",
       "<table border=\"1\" class=\"dataframe\">\n",
       "  <thead>\n",
       "    <tr style=\"text-align: right;\">\n",
       "      <th></th>\n",
       "      <th>scientific_name</th>\n",
       "      <th>park_name</th>\n",
       "      <th>observations</th>\n",
       "    </tr>\n",
       "  </thead>\n",
       "  <tbody>\n",
       "    <tr>\n",
       "      <th>0</th>\n",
       "      <td>Vicia benghalensis</td>\n",
       "      <td>Great Smoky Mountains National Park</td>\n",
       "      <td>68</td>\n",
       "    </tr>\n",
       "    <tr>\n",
       "      <th>1</th>\n",
       "      <td>Neovison vison</td>\n",
       "      <td>Great Smoky Mountains National Park</td>\n",
       "      <td>77</td>\n",
       "    </tr>\n",
       "    <tr>\n",
       "      <th>2</th>\n",
       "      <td>Prunus subcordata</td>\n",
       "      <td>Yosemite National Park</td>\n",
       "      <td>138</td>\n",
       "    </tr>\n",
       "    <tr>\n",
       "      <th>3</th>\n",
       "      <td>Abutilon theophrasti</td>\n",
       "      <td>Bryce National Park</td>\n",
       "      <td>84</td>\n",
       "    </tr>\n",
       "    <tr>\n",
       "      <th>4</th>\n",
       "      <td>Githopsis specularioides</td>\n",
       "      <td>Great Smoky Mountains National Park</td>\n",
       "      <td>85</td>\n",
       "    </tr>\n",
       "  </tbody>\n",
       "</table>\n",
       "</div>"
      ],
      "text/plain": [
       "            scientific_name                            park_name  observations\n",
       "0        Vicia benghalensis  Great Smoky Mountains National Park            68\n",
       "1            Neovison vison  Great Smoky Mountains National Park            77\n",
       "2         Prunus subcordata               Yosemite National Park           138\n",
       "3      Abutilon theophrasti                  Bryce National Park            84\n",
       "4  Githopsis specularioides  Great Smoky Mountains National Park            85"
      ]
     },
     "execution_count": 9,
     "metadata": {},
     "output_type": "execute_result"
    }
   ],
   "source": [
    "# 2 Get a feel for the data, describe the data, look at the first/last rows, shape: observations data set\n",
    "observations.head()"
   ]
  },
  {
   "cell_type": "code",
   "execution_count": 10,
   "metadata": {
    "scrolled": true
   },
   "outputs": [
    {
     "data": {
      "text/html": [
       "<div>\n",
       "<style scoped>\n",
       "    .dataframe tbody tr th:only-of-type {\n",
       "        vertical-align: middle;\n",
       "    }\n",
       "\n",
       "    .dataframe tbody tr th {\n",
       "        vertical-align: top;\n",
       "    }\n",
       "\n",
       "    .dataframe thead th {\n",
       "        text-align: right;\n",
       "    }\n",
       "</style>\n",
       "<table border=\"1\" class=\"dataframe\">\n",
       "  <thead>\n",
       "    <tr style=\"text-align: right;\">\n",
       "      <th></th>\n",
       "      <th>observations</th>\n",
       "    </tr>\n",
       "  </thead>\n",
       "  <tbody>\n",
       "    <tr>\n",
       "      <th>count</th>\n",
       "      <td>23296.000000</td>\n",
       "    </tr>\n",
       "    <tr>\n",
       "      <th>mean</th>\n",
       "      <td>142.287904</td>\n",
       "    </tr>\n",
       "    <tr>\n",
       "      <th>std</th>\n",
       "      <td>69.890532</td>\n",
       "    </tr>\n",
       "    <tr>\n",
       "      <th>min</th>\n",
       "      <td>9.000000</td>\n",
       "    </tr>\n",
       "    <tr>\n",
       "      <th>25%</th>\n",
       "      <td>86.000000</td>\n",
       "    </tr>\n",
       "    <tr>\n",
       "      <th>50%</th>\n",
       "      <td>124.000000</td>\n",
       "    </tr>\n",
       "    <tr>\n",
       "      <th>75%</th>\n",
       "      <td>195.000000</td>\n",
       "    </tr>\n",
       "    <tr>\n",
       "      <th>max</th>\n",
       "      <td>321.000000</td>\n",
       "    </tr>\n",
       "  </tbody>\n",
       "</table>\n",
       "</div>"
      ],
      "text/plain": [
       "       observations\n",
       "count  23296.000000\n",
       "mean     142.287904\n",
       "std       69.890532\n",
       "min        9.000000\n",
       "25%       86.000000\n",
       "50%      124.000000\n",
       "75%      195.000000\n",
       "max      321.000000"
      ]
     },
     "execution_count": 10,
     "metadata": {},
     "output_type": "execute_result"
    }
   ],
   "source": [
    "observations.describe()"
   ]
  },
  {
   "cell_type": "code",
   "execution_count": 11,
   "metadata": {},
   "outputs": [],
   "source": [
    "# 3 Take a deeper look into the data by querying/indexing the data"
   ]
  },
  {
   "cell_type": "code",
   "execution_count": 12,
   "metadata": {},
   "outputs": [
    {
     "name": "stdout",
     "output_type": "stream",
     "text": [
      "<class 'pandas.core.frame.DataFrame'>\n",
      "RangeIndex: 23296 entries, 0 to 23295\n",
      "Data columns (total 3 columns):\n",
      " #   Column           Non-Null Count  Dtype \n",
      "---  ------           --------------  ----- \n",
      " 0   scientific_name  23296 non-null  object\n",
      " 1   park_name        23296 non-null  object\n",
      " 2   observations     23296 non-null  int64 \n",
      "dtypes: int64(1), object(2)\n",
      "memory usage: 546.1+ KB\n"
     ]
    }
   ],
   "source": [
    "observations.info()"
   ]
  },
  {
   "cell_type": "code",
   "execution_count": 13,
   "metadata": {},
   "outputs": [
    {
     "data": {
      "text/html": [
       "<div>\n",
       "<style scoped>\n",
       "    .dataframe tbody tr th:only-of-type {\n",
       "        vertical-align: middle;\n",
       "    }\n",
       "\n",
       "    .dataframe tbody tr th {\n",
       "        vertical-align: top;\n",
       "    }\n",
       "\n",
       "    .dataframe thead th {\n",
       "        text-align: right;\n",
       "    }\n",
       "</style>\n",
       "<table border=\"1\" class=\"dataframe\">\n",
       "  <thead>\n",
       "    <tr style=\"text-align: right;\">\n",
       "      <th></th>\n",
       "      <th>index</th>\n",
       "      <th>park_name</th>\n",
       "    </tr>\n",
       "  </thead>\n",
       "  <tbody>\n",
       "    <tr>\n",
       "      <th>0</th>\n",
       "      <td>Bryce National Park</td>\n",
       "      <td>5824</td>\n",
       "    </tr>\n",
       "    <tr>\n",
       "      <th>1</th>\n",
       "      <td>Great Smoky Mountains National Park</td>\n",
       "      <td>5824</td>\n",
       "    </tr>\n",
       "    <tr>\n",
       "      <th>2</th>\n",
       "      <td>Yosemite National Park</td>\n",
       "      <td>5824</td>\n",
       "    </tr>\n",
       "    <tr>\n",
       "      <th>3</th>\n",
       "      <td>Yellowstone National Park</td>\n",
       "      <td>5824</td>\n",
       "    </tr>\n",
       "  </tbody>\n",
       "</table>\n",
       "</div>"
      ],
      "text/plain": [
       "                                 index  park_name\n",
       "0                  Bryce National Park       5824\n",
       "1  Great Smoky Mountains National Park       5824\n",
       "2               Yosemite National Park       5824\n",
       "3            Yellowstone National Park       5824"
      ]
     },
     "execution_count": 13,
     "metadata": {},
     "output_type": "execute_result"
    }
   ],
   "source": [
    "observations.park_name.value_counts().reset_index()"
   ]
  },
  {
   "cell_type": "code",
   "execution_count": 14,
   "metadata": {},
   "outputs": [
    {
     "data": {
      "text/html": [
       "<div>\n",
       "<style scoped>\n",
       "    .dataframe tbody tr th:only-of-type {\n",
       "        vertical-align: middle;\n",
       "    }\n",
       "\n",
       "    .dataframe tbody tr th {\n",
       "        vertical-align: top;\n",
       "    }\n",
       "\n",
       "    .dataframe thead th {\n",
       "        text-align: right;\n",
       "    }\n",
       "</style>\n",
       "<table border=\"1\" class=\"dataframe\">\n",
       "  <thead>\n",
       "    <tr style=\"text-align: right;\">\n",
       "      <th></th>\n",
       "      <th>index</th>\n",
       "      <th>scientific_name</th>\n",
       "    </tr>\n",
       "  </thead>\n",
       "  <tbody>\n",
       "    <tr>\n",
       "      <th>0</th>\n",
       "      <td>Streptopelia decaocto</td>\n",
       "      <td>12</td>\n",
       "    </tr>\n",
       "    <tr>\n",
       "      <th>1</th>\n",
       "      <td>Columba livia</td>\n",
       "      <td>12</td>\n",
       "    </tr>\n",
       "    <tr>\n",
       "      <th>2</th>\n",
       "      <td>Puma concolor</td>\n",
       "      <td>12</td>\n",
       "    </tr>\n",
       "    <tr>\n",
       "      <th>3</th>\n",
       "      <td>Myotis lucifugus</td>\n",
       "      <td>12</td>\n",
       "    </tr>\n",
       "    <tr>\n",
       "      <th>4</th>\n",
       "      <td>Castor canadensis</td>\n",
       "      <td>12</td>\n",
       "    </tr>\n",
       "    <tr>\n",
       "      <th>...</th>\n",
       "      <td>...</td>\n",
       "      <td>...</td>\n",
       "    </tr>\n",
       "    <tr>\n",
       "      <th>5536</th>\n",
       "      <td>Artemisia absinthium</td>\n",
       "      <td>4</td>\n",
       "    </tr>\n",
       "    <tr>\n",
       "      <th>5537</th>\n",
       "      <td>Hierochloe odorata</td>\n",
       "      <td>4</td>\n",
       "    </tr>\n",
       "    <tr>\n",
       "      <th>5538</th>\n",
       "      <td>Bromus grandis</td>\n",
       "      <td>4</td>\n",
       "    </tr>\n",
       "    <tr>\n",
       "      <th>5539</th>\n",
       "      <td>Pseudotriton montanus montanus</td>\n",
       "      <td>4</td>\n",
       "    </tr>\n",
       "    <tr>\n",
       "      <th>5540</th>\n",
       "      <td>Hackelia mundula</td>\n",
       "      <td>4</td>\n",
       "    </tr>\n",
       "  </tbody>\n",
       "</table>\n",
       "<p>5541 rows × 2 columns</p>\n",
       "</div>"
      ],
      "text/plain": [
       "                               index  scientific_name\n",
       "0              Streptopelia decaocto               12\n",
       "1                      Columba livia               12\n",
       "2                      Puma concolor               12\n",
       "3                   Myotis lucifugus               12\n",
       "4                  Castor canadensis               12\n",
       "...                              ...              ...\n",
       "5536            Artemisia absinthium                4\n",
       "5537              Hierochloe odorata                4\n",
       "5538                  Bromus grandis                4\n",
       "5539  Pseudotriton montanus montanus                4\n",
       "5540                Hackelia mundula                4\n",
       "\n",
       "[5541 rows x 2 columns]"
      ]
     },
     "execution_count": 14,
     "metadata": {},
     "output_type": "execute_result"
    }
   ],
   "source": [
    "observations.scientific_name.value_counts().reset_index()"
   ]
  },
  {
   "cell_type": "markdown",
   "metadata": {},
   "source": [
    "**Data types:**\n",
    "\n",
    "The info and value_counts functions allowed us to determine the following:\n",
    "   * scientific_name and park_name are nominal categorical varibles\n",
    "   * obeservations is a discrete quantitative variable\n",
    "   * There are an equal number of observations (5824) between each park name\n",
    "   * There were 5541 different species observed\n",
    "   * Some species were observed up to 12 times, whereas others were only observed 4 times\n",
    "   * There are no null values"
   ]
  },
  {
   "cell_type": "code",
   "execution_count": 15,
   "metadata": {},
   "outputs": [
    {
     "data": {
      "image/png": "[encoded data removed]",
      "text/plain": [
       "<Figure size 864x504 with 1 Axes>"
      ]
     },
     "metadata": {},
     "output_type": "display_data"
    }
   ],
   "source": [
    "plt.figure(figsize=(12,7))\n",
    "sns.countplot(data=species_info, x='category')\n",
    "plt.title('Species Categories')\n",
    "plt.show()"
   ]
  },
  {
   "cell_type": "code",
   "execution_count": 16,
   "metadata": {},
   "outputs": [
    {
     "data": {
      "image/png": "[encoded data removed]",
      "text/plain": [
       "<Figure size 864x504 with 1 Axes>"
      ]
     },
     "metadata": {},
     "output_type": "display_data"
    }
   ],
   "source": [
    "plt.figure(figsize=(12,7))\n",
    "sns.countplot(data=species_info, x='conservation_status')\n",
    "plt.title('All Species Conservation Status')\n",
    "plt.show()"
   ]
  },
  {
   "cell_type": "code",
   "execution_count": 17,
   "metadata": {},
   "outputs": [
    {
     "data": {
      "image/png": "[encoded data removed]",
      "text/plain": [
       "<Figure size 864x504 with 1 Axes>"
      ]
     },
     "metadata": {},
     "output_type": "display_data"
    }
   ],
   "source": [
    "# querying conservation status for animals only\n",
    "animal = species_info[(species_info.category =='Mammal') \n",
    "                      | (species_info.category =='Bird') \n",
    "                      | (species_info.category =='Reptile') \n",
    "                      | (species_info.category =='Amphibian category') \n",
    "                      | (species_info.category =='Fish')]\n",
    "\n",
    "# creating distribution of conserrvation status for animals\n",
    "plt.figure(figsize=(12,7))\n",
    "sns.countplot(data=animal, x='conservation_status')\n",
    "plt.title('Conservation Status of Animals')\n",
    "plt.show()"
   ]
  },
  {
   "cell_type": "code",
   "execution_count": 18,
   "metadata": {},
   "outputs": [
    {
     "data": {
      "image/png": "[encoded data removed]",
      "text/plain": [
       "<Figure size 864x504 with 1 Axes>"
      ]
     },
     "metadata": {},
     "output_type": "display_data"
    }
   ],
   "source": [
    "# querying conservation status for plants only\n",
    "plant = species_info[(species_info.category =='Vascular Plant') \n",
    "                      | (species_info.category =='Nonvascular Plant')]\n",
    "\n",
    "# creating distribution of conserrvation status for animals\n",
    "plt.figure(figsize=(12,7))\n",
    "sns.countplot(data=plant, x='conservation_status')\n",
    "plt.title('Conservation Status of Plants')\n",
    "plt.show()"
   ]
  },
  {
   "cell_type": "markdown",
   "metadata": {},
   "source": [
    " Identify features of interest\n",
    "\n",
    "   * In this dataset, the features of interest are endangered and categories of species\n",
    "   * We will conduct an analysis by utilizing 'animal' and 'plant' bins\n",
    "   * One question we may want to ask is: does plant species endangerment/extinction coorelate with animal species endangerment/extinction?\n",
    "   \n",
    "   "
   ]
  },
  {
   "cell_type": "code",
   "execution_count": null,
   "metadata": {},
   "outputs": [],
   "source": []
  },
  {
   "cell_type": "code",
   "execution_count": 19,
   "metadata": {},
   "outputs": [
    {
     "name": "stdout",
     "output_type": "stream",
     "text": [
      "<class 'pandas.core.frame.DataFrame'>\n",
      "RangeIndex: 5824 entries, 0 to 5823\n",
      "Data columns (total 4 columns):\n",
      " #   Column               Non-Null Count  Dtype \n",
      "---  ------               --------------  ----- \n",
      " 0   category             5824 non-null   object\n",
      " 1   scientific_name      5824 non-null   object\n",
      " 2   common_names         5824 non-null   object\n",
      " 3   conservation_status  191 non-null    object\n",
      "dtypes: object(4)\n",
      "memory usage: 182.1+ KB\n",
      "<class 'pandas.core.frame.DataFrame'>\n",
      "RangeIndex: 23296 entries, 0 to 23295\n",
      "Data columns (total 3 columns):\n",
      " #   Column           Non-Null Count  Dtype \n",
      "---  ------           --------------  ----- \n",
      " 0   scientific_name  23296 non-null  object\n",
      " 1   park_name        23296 non-null  object\n",
      " 2   observations     23296 non-null  int64 \n",
      "dtypes: int64(1), object(2)\n",
      "memory usage: 546.1+ KB\n"
     ]
    },
    {
     "data": {
      "text/plain": [
       "(None, None)"
      ]
     },
     "execution_count": 19,
     "metadata": {},
     "output_type": "execute_result"
    }
   ],
   "source": [
    "# Are certain types of species more likely to be endangered?\n",
    "species_info.info(), observations.info()"
   ]
  },
  {
   "cell_type": "markdown",
   "metadata": {},
   "source": [
    "### Finding likelihood of species endangerment based on category"
   ]
  },
  {
   "cell_type": "code",
   "execution_count": 85,
   "metadata": {},
   "outputs": [
    {
     "data": {
      "text/html": [
       "<style  type=\"text/css\" >\n",
       "</style><table id=\"T_80946cc7_e809_11eb_b4b1_8086f2ab2e11\" ><thead>    <tr>        <th class=\"blank level0\" ></th>        <th class=\"col_heading level0 col0\" >index</th>        <th class=\"col_heading level0 col1\" >num_species</th>        <th class=\"col_heading level0 col2\" >num_endangered</th>        <th class=\"col_heading level0 col3\" >proportion_endangered</th>    </tr></thead><tbody>\n",
       "                <tr>\n",
       "                        <th id=\"T_80946cc7_e809_11eb_b4b1_8086f2ab2e11level0_row0\" class=\"row_heading level0 row0\" >0</th>\n",
       "                        <td id=\"T_80946cc7_e809_11eb_b4b1_8086f2ab2e11row0_col0\" class=\"data row0 col0\" >Mammal</td>\n",
       "                        <td id=\"T_80946cc7_e809_11eb_b4b1_8086f2ab2e11row0_col1\" class=\"data row0 col1\" >214</td>\n",
       "                        <td id=\"T_80946cc7_e809_11eb_b4b1_8086f2ab2e11row0_col2\" class=\"data row0 col2\" >7</td>\n",
       "                        <td id=\"T_80946cc7_e809_11eb_b4b1_8086f2ab2e11row0_col3\" class=\"data row0 col3\" >3.27%</td>\n",
       "            </tr>\n",
       "            <tr>\n",
       "                        <th id=\"T_80946cc7_e809_11eb_b4b1_8086f2ab2e11level0_row1\" class=\"row_heading level0 row1\" >1</th>\n",
       "                        <td id=\"T_80946cc7_e809_11eb_b4b1_8086f2ab2e11row1_col0\" class=\"data row1 col0\" >Fish</td>\n",
       "                        <td id=\"T_80946cc7_e809_11eb_b4b1_8086f2ab2e11row1_col1\" class=\"data row1 col1\" >127</td>\n",
       "                        <td id=\"T_80946cc7_e809_11eb_b4b1_8086f2ab2e11row1_col2\" class=\"data row1 col2\" >3</td>\n",
       "                        <td id=\"T_80946cc7_e809_11eb_b4b1_8086f2ab2e11row1_col3\" class=\"data row1 col3\" >2.36%</td>\n",
       "            </tr>\n",
       "            <tr>\n",
       "                        <th id=\"T_80946cc7_e809_11eb_b4b1_8086f2ab2e11level0_row2\" class=\"row_heading level0 row2\" >2</th>\n",
       "                        <td id=\"T_80946cc7_e809_11eb_b4b1_8086f2ab2e11row2_col0\" class=\"data row2 col0\" >Amphibian</td>\n",
       "                        <td id=\"T_80946cc7_e809_11eb_b4b1_8086f2ab2e11row2_col1\" class=\"data row2 col1\" >80</td>\n",
       "                        <td id=\"T_80946cc7_e809_11eb_b4b1_8086f2ab2e11row2_col2\" class=\"data row2 col2\" >1</td>\n",
       "                        <td id=\"T_80946cc7_e809_11eb_b4b1_8086f2ab2e11row2_col3\" class=\"data row2 col3\" >1.25%</td>\n",
       "            </tr>\n",
       "            <tr>\n",
       "                        <th id=\"T_80946cc7_e809_11eb_b4b1_8086f2ab2e11level0_row3\" class=\"row_heading level0 row3\" >3</th>\n",
       "                        <td id=\"T_80946cc7_e809_11eb_b4b1_8086f2ab2e11row3_col0\" class=\"data row3 col0\" >Bird</td>\n",
       "                        <td id=\"T_80946cc7_e809_11eb_b4b1_8086f2ab2e11row3_col1\" class=\"data row3 col1\" >521</td>\n",
       "                        <td id=\"T_80946cc7_e809_11eb_b4b1_8086f2ab2e11row3_col2\" class=\"data row3 col2\" >4</td>\n",
       "                        <td id=\"T_80946cc7_e809_11eb_b4b1_8086f2ab2e11row3_col3\" class=\"data row3 col3\" >0.77%</td>\n",
       "            </tr>\n",
       "            <tr>\n",
       "                        <th id=\"T_80946cc7_e809_11eb_b4b1_8086f2ab2e11level0_row4\" class=\"row_heading level0 row4\" >4</th>\n",
       "                        <td id=\"T_80946cc7_e809_11eb_b4b1_8086f2ab2e11row4_col0\" class=\"data row4 col0\" >Vascular Plant</td>\n",
       "                        <td id=\"T_80946cc7_e809_11eb_b4b1_8086f2ab2e11row4_col1\" class=\"data row4 col1\" >4470</td>\n",
       "                        <td id=\"T_80946cc7_e809_11eb_b4b1_8086f2ab2e11row4_col2\" class=\"data row4 col2\" >1</td>\n",
       "                        <td id=\"T_80946cc7_e809_11eb_b4b1_8086f2ab2e11row4_col3\" class=\"data row4 col3\" >0.02%</td>\n",
       "            </tr>\n",
       "            <tr>\n",
       "                        <th id=\"T_80946cc7_e809_11eb_b4b1_8086f2ab2e11level0_row5\" class=\"row_heading level0 row5\" >5</th>\n",
       "                        <td id=\"T_80946cc7_e809_11eb_b4b1_8086f2ab2e11row5_col0\" class=\"data row5 col0\" >Nonvascular Plant</td>\n",
       "                        <td id=\"T_80946cc7_e809_11eb_b4b1_8086f2ab2e11row5_col1\" class=\"data row5 col1\" >333</td>\n",
       "                        <td id=\"T_80946cc7_e809_11eb_b4b1_8086f2ab2e11row5_col2\" class=\"data row5 col2\" >nan</td>\n",
       "                        <td id=\"T_80946cc7_e809_11eb_b4b1_8086f2ab2e11row5_col3\" class=\"data row5 col3\" >nan%</td>\n",
       "            </tr>\n",
       "            <tr>\n",
       "                        <th id=\"T_80946cc7_e809_11eb_b4b1_8086f2ab2e11level0_row6\" class=\"row_heading level0 row6\" >6</th>\n",
       "                        <td id=\"T_80946cc7_e809_11eb_b4b1_8086f2ab2e11row6_col0\" class=\"data row6 col0\" >Reptile</td>\n",
       "                        <td id=\"T_80946cc7_e809_11eb_b4b1_8086f2ab2e11row6_col1\" class=\"data row6 col1\" >79</td>\n",
       "                        <td id=\"T_80946cc7_e809_11eb_b4b1_8086f2ab2e11row6_col2\" class=\"data row6 col2\" >nan</td>\n",
       "                        <td id=\"T_80946cc7_e809_11eb_b4b1_8086f2ab2e11row6_col3\" class=\"data row6 col3\" >nan%</td>\n",
       "            </tr>\n",
       "    </tbody></table>"
      ],
      "text/plain": [
       "<pandas.io.formats.style.Styler at 0xa554c81b20>"
      ]
     },
     "execution_count": 85,
     "metadata": {},
     "output_type": "execute_result"
    }
   ],
   "source": [
    "# creating df of only observations with conservation_status == 'endangered'\n",
    "endangered = species_info[species_info.conservation_status == 'Endangered']\n",
    "\n",
    "# creating a df 'en_species' that contains the count of all endangered observations grouped by category\n",
    "en_species = endangered.category.value_counts().reset_index()\n",
    "en_species.rename(columns = {'category':'num_endangered'}, inplace = True)\n",
    "\n",
    "# creating a df 'species' that contains the count of all observations for each species category to be used in denominator\n",
    "species = species_info.category.value_counts().reset_index()\n",
    "species.rename(columns = {'category':'num_species'}, inplace = True)\n",
    "\n",
    "# combining en_species and 'species' df by adding en_species as 'num_endangered' field\n",
    "species = species.merge(en_species, how='left', on='index')\n",
    "\n",
    "# creating a proportion column by dividing 'num_endangered' column by 'category'\n",
    "species['proportion_endangered'] = (species.num_endangered / species.num_species)\n",
    "\n",
    "# sorting species by desceding proportion_endangered\n",
    "species = species.sort_values(by='proportion_endangered', ascending=False).reset_index(drop=True)\n",
    "\n",
    "# converting 'percent_endangered' to percentage\n",
    "species.style.format({\n",
    "    'category_count': '{:.0f}'.format,\n",
    "    'num_endangered': '{:.0f}'.format,\n",
    "    'proportion_endangered': '{:,.2%}'.format})\n"
   ]
  },
  {
   "cell_type": "markdown",
   "metadata": {},
   "source": [
    "From the above dataframe we can see that the mammals category has the greatest amount of engangered species per capita at 3.27%. \n",
    "This indicates that mammals are more likely to be endangered than any other species category.\n",
    "\n",
    "Alternatively, reptiles and nonvascular plants have 0 endangered species in their own respective categories. This indicates that it is highly unlikely for their categories to be at risk of becoming endangered."
   ]
  },
  {
   "cell_type": "code",
   "execution_count": 109,
   "metadata": {},
   "outputs": [
    {
     "data": {
      "image/png": "[encoded data removed]",
      "text/plain": [
       "<Figure size 1440x864 with 1 Axes>"
      ]
     },
     "metadata": {},
     "output_type": "display_data"
    }
   ],
   "source": [
    "plt.figure(figsize=(20,12))\n",
    "ax = sns.barplot(y=\"proportion_endangered\", x='index',data=species)\n",
    "ax.set_title('Endangered Proportion per Population')\n",
    "ax.set(xlabel=\"\", ylabel=\"Proportion Endangered\")\n",
    "sns.despine(left=True)\n",
    "sns.set_context(\"poster\")\n",
    "plt.show()"
   ]
  },
  {
   "cell_type": "markdown",
   "metadata": {},
   "source": []
  }
 ],
 "metadata": {
  "kernelspec": {
   "display_name": "Python 3",
   "language": "python",
   "name": "python3"
  },
  "language_info": {
   "codemirror_mode": {
    "name": "ipython",
    "version": 3
   },
   "file_extension": ".py",
   "mimetype": "text/x-python",
   "name": "python",
   "nbconvert_exporter": "python",
   "pygments_lexer": "ipython3",
   "version": "3.8.5"
  }
 },
 "nbformat": 4,
 "nbformat_minor": 4
}
